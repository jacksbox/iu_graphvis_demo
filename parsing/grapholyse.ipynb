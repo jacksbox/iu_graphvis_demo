{
 "cells": [
  {
   "cell_type": "code",
   "execution_count": 5,
   "metadata": {},
   "outputs": [],
   "source": [
    "import xml.etree.ElementTree as ET\n",
    "import json"
   ]
  },
  {
   "cell_type": "code",
   "execution_count": 6,
   "metadata": {},
   "outputs": [],
   "source": [
    "def extract_graph_description(ditamap, dita):\n",
    "\n",
    "    # get the tree from loaded file\n",
    "    ditamap_root = ET.parse(ditamap)\n",
    "    dita_root = ET.parse(dita)\n",
    "    \n",
    "    graph_base = dict()\n",
    "\n",
    "    book_info = dict()\n",
    "    book_title = ditamap_root.find('.//mainbooktitle')\n",
    "    if hasattr(book_title, 'text'):\n",
    "        book_info[\"title\"] = book_title.text.strip()\n",
    "\n",
    "    book_type = ditamap_root.find('.//booktitlealt')\n",
    "    if hasattr(book_type, 'text'):\n",
    "        book_info[\"type\"] = book_type.text.strip()\n",
    "\n",
    "    book_id = ditamap_root.find('.//bookid/booknumber')\n",
    "    if hasattr(book_id, 'text'):\n",
    "        book_info[\"course_code\"] = book_id.text.strip()\n",
    "\n",
    "    graph_base[book_info[\"course_code\"]] = {\n",
    "        \"title\": book_info[\"title\"],\n",
    "        \"subtitle\": book_info[\"type\"],\n",
    "        \"type\": \"course\",\n",
    "    }\n",
    "        \n",
    "    def find_glossentries(root):\n",
    "        for node in root.findall(\".//glossentry\"):\n",
    "            key = node.attrib['id']\n",
    "            text = \" \".join(node.find('glossterm').itertext())\n",
    "            graph_base[key] = {\n",
    "                \"title\": text,\n",
    "                \"parents\": [],\n",
    "                \"type\": \"glossentry\",\n",
    "            }\n",
    "    \n",
    "    find_glossentries(dita_root)\n",
    "\n",
    "    def find_glossrefs(root, cycle_id):\n",
    "        for term in root.findall(f\".//term[@type='glossentry']\"):\n",
    "                graph_base[term.attrib['keyref']]['parents'].append(cycle_id)\n",
    "\n",
    "    def find_cycles(root, section_id):\n",
    "        for topic in root.findall(\".topic\"):\n",
    "            id = topic.attrib['id']\n",
    "            if id.startswith(\"CYCLE\"):\n",
    "                graph_base[id] = {\n",
    "                    \"title\": topic.find('./title').text,\n",
    "                    \"parents\": [section_id],\n",
    "                    \"type\": \"cycle\",\n",
    "                }\n",
    "                find_glossrefs(topic, id)\n",
    "\n",
    "    def find_sections(root):\n",
    "        for topic in root.findall(\".topic\"):\n",
    "            id = topic.attrib['id']\n",
    "            if id.startswith(\"UNIT\"):\n",
    "                graph_base[id] = {\n",
    "                    \"title\": topic.find('./title').text,\n",
    "                    \"parents\": [book_info[\"course_code\"]],\n",
    "                    \"type\": \"section\",\n",
    "                }\n",
    "                find_cycles(topic, id)\n",
    "\n",
    "    find_sections(dita_root)\n",
    "        \n",
    "    return graph_base"
   ]
  },
  {
   "cell_type": "code",
   "execution_count": 12,
   "metadata": {},
   "outputs": [],
   "source": [
    "filename = 'DLBSAESA01.json'\n",
    "ditamap = 'data/dita/' + 'book_DLBSAESA01_001-2022-0322_2022-03-22T08-45-07-654Z' + '.ditamap'\n",
    "dita =    'data/dita/' + 'book_DLBSAESA01_001-2022-0322_2022-03-22T08-45-07-654Z' + '.dita'\n",
    "\n",
    "graph_description = extract_graph_description(ditamap, dita)"
   ]
  },
  {
   "cell_type": "code",
   "execution_count": 13,
   "metadata": {},
   "outputs": [],
   "source": [
    "with open(filename, 'w', encoding='utf8') as f:\n",
    "    json.dump(graph_description, f, ensure_ascii=False)"
   ]
  },
  {
   "cell_type": "code",
   "execution_count": null,
   "metadata": {},
   "outputs": [],
   "source": []
  }
 ],
 "metadata": {
  "interpreter": {
   "hash": "2dd58ac8a97a404a13eb4bfe1ef06a77fdc8c76d0cb5ebaf3ccab6250ec9ad97"
  },
  "kernelspec": {
   "display_name": "Python 3.9.7 ('base')",
   "language": "python",
   "name": "python3"
  },
  "language_info": {
   "codemirror_mode": {
    "name": "ipython",
    "version": 3
   },
   "file_extension": ".py",
   "mimetype": "text/x-python",
   "name": "python",
   "nbconvert_exporter": "python",
   "pygments_lexer": "ipython3",
   "version": "3.9.7"
  },
  "orig_nbformat": 4
 },
 "nbformat": 4,
 "nbformat_minor": 2
}
